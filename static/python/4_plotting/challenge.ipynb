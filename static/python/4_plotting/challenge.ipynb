{
 "cells": [
  {
   "cell_type": "markdown",
   "metadata": {},
   "source": [
    "# Python Plotting Challenge\n",
    "---"
   ]
  },
  {
   "cell_type": "markdown",
   "metadata": {},
   "source": [
    "## Goals of this Challenge\n",
    "\n",
    "### Students will test their ability to:\n",
    "\n",
    "1. Generate beautiful statistical visualizations in Python using the seaborn package"
   ]
  },
  {
   "cell_type": "markdown",
   "metadata": {},
   "source": [
    "In this challenge, you'll get the opportunity to plot data from paper by Garcia and colleagues (2015). In it, there is data from 116 Swedish high school students.\n",
    "\n",
    "For the purposes of this data challenge, we'll be looking at how **regulatory mode** -- as represented by the **locomotion** and **assessment** variables -- predicts psychological well-being and academic achievement."
   ]
  },
  {
   "cell_type": "markdown",
   "metadata": {},
   "source": [
    "**gender:** Whether students were coded as female (gender==1) or male (gender==2)  \n",
    "**age:** Age in years.  \n",
    "**PWB:** This is a \"Psychological Well-Being\" scale. Higher scores (on a scale of 0-6) indicated higher psychological well-being  \n",
    "**Locomotion:**   This measures a form of \"regulatory mode,\" and is a personality measure related to goal-directed behavior. High-locomotion people favor taking action over waiting for opportunities to present themselves.  \n",
    "**Assessment:** This is also a form of \"regulatory mode.\" High-assessment people place a high value on close observation, data collection, and critical thinking. Importantly, locomotion and assessment are designed to be uncorrelated, so someone can have low scores in both (and be hesitant and inattentive) or high scores in both (and be prone to action and hypervigilant).  \n",
    "**Excercise:**    This is a composite measure of exercise behavior. Higher scores denote a more active student overall.  \n",
    "**AcademAchieve:** This is a measure of academic achievement using the 20-point scale that is thenorm in Sweden. Thus, this can be thought of as analogous to a GPA."
   ]
  },
  {
   "cell_type": "code",
   "execution_count": 1,
   "metadata": {},
   "outputs": [],
   "source": [
    "# load packages we will be using for this challenge\n",
    "import pandas as pd\n",
    "import seaborn as sns\n",
    "import matplotlib.pyplot as plt\n",
    "import warnings\n",
    "warnings.filterwarnings('ignore')\n",
    "\n",
    "sns.set(rc={'figure.figsize':(12,8)})"
   ]
  },
  {
   "cell_type": "markdown",
   "metadata": {},
   "source": [
    "Before we do anything, we should load the data:"
   ]
  },
  {
   "cell_type": "code",
   "execution_count": null,
   "metadata": {},
   "outputs": [],
   "source": []
  },
  {
   "cell_type": "markdown",
   "metadata": {},
   "source": [
    "---\n",
    "# Descriptives\n",
    "\n",
    "Let's first use some basic histograms to visualize our variables. Let's do this for PWB, Locomotion, Assessment, Exercise, and AcademAchieve."
   ]
  },
  {
   "cell_type": "code",
   "execution_count": null,
   "metadata": {},
   "outputs": [],
   "source": []
  },
  {
   "cell_type": "markdown",
   "metadata": {},
   "source": [
    "---\n",
    "# Scatterplot\n",
    "\n",
    "Let's look at how locomotion and assessment each relate to psychological well-being (PWB)\n",
    "\n",
    "First, make 2 scatter plots in with locomotion score/assessment score (respectively) on the x axis and PWB on the y axis. \n"
   ]
  },
  {
   "cell_type": "code",
   "execution_count": null,
   "metadata": {},
   "outputs": [],
   "source": []
  },
  {
   "cell_type": "markdown",
   "metadata": {},
   "source": [
    "Does it look like there's a relationship? Let's test this further by fitting a line to these points, with a 95% confidence interval. "
   ]
  },
  {
   "cell_type": "code",
   "execution_count": null,
   "metadata": {},
   "outputs": [],
   "source": []
  },
  {
   "cell_type": "markdown",
   "metadata": {},
   "source": [
    "Hmm, 'PWB' and 'Locomotion/Assessment' aren't very descriptive axis titles...can you make them something more helpful, and also title the plots?\n",
    "\n",
    "(Hint: lmplot works a little differently from scatterplot. In scatterplot you can call `set_title()` directly on your plot object, but for lmplot you need to get the axis that is currently being plotted to using the function `plt.gca()` and then call `set_title()` on that)"
   ]
  },
  {
   "cell_type": "code",
   "execution_count": null,
   "metadata": {},
   "outputs": [],
   "source": []
  },
  {
   "cell_type": "markdown",
   "metadata": {},
   "source": [
    "---\n",
    "# Categorical plots"
   ]
  },
  {
   "cell_type": "markdown",
   "metadata": {},
   "source": [
    "Okay, so let’s just think about locomotion for now. Maybe there’s a difference in locomoation as a function of gender. Plot a bar plot showing the average locomotion score and 95% CI for each gender.\n",
    "\n",
    "Remember, you might want to recode the variable to get your plot to show descriptive factor levels!"
   ]
  },
  {
   "cell_type": "code",
   "execution_count": null,
   "metadata": {},
   "outputs": [],
   "source": []
  },
  {
   "cell_type": "markdown",
   "metadata": {},
   "source": [
    "Great! Sometimes bar plots can hide the distribution of the raw data though. Let’s plot just the raw datapoints broken down by gender:"
   ]
  },
  {
   "cell_type": "code",
   "execution_count": null,
   "metadata": {},
   "outputs": [],
   "source": []
  },
  {
   "cell_type": "markdown",
   "metadata": {},
   "source": [
    "What if we wanted to put both of these plots on top of each other? Try using the individual functions for these catplots to create a single graph. Hint: making the bars slightly lighter than the points helps to make all of the points visible."
   ]
  },
  {
   "cell_type": "code",
   "execution_count": null,
   "metadata": {},
   "outputs": [],
   "source": []
  },
  {
   "cell_type": "markdown",
   "metadata": {},
   "source": [
    "Okay, so while there might not be huge gender difference in this dataset on locomotion, maybe locomotion predicts different things in males and females.\n",
    "\n",
    "Make a scatter plot + linear regression line (with confidence interval) with locomotion on the x axis and PWB on the y axis, but this time break this relationship out by gender\n",
    "\n"
   ]
  },
  {
   "cell_type": "code",
   "execution_count": null,
   "metadata": {},
   "outputs": [],
   "source": []
  },
  {
   "cell_type": "markdown",
   "metadata": {},
   "source": [
    "Okay, let’s switch it up and look at how PWB predicts academic achievement broken down by gender:"
   ]
  },
  {
   "cell_type": "code",
   "execution_count": null,
   "metadata": {},
   "outputs": [],
   "source": []
  },
  {
   "cell_type": "markdown",
   "metadata": {},
   "source": [
    "Okay, now let’s say we want to make this one look nice! Change the style, font, colors, and labels:"
   ]
  },
  {
   "cell_type": "code",
   "execution_count": null,
   "metadata": {},
   "outputs": [],
   "source": []
  }
 ],
 "metadata": {
  "kernelspec": {
   "display_name": "Python 3",
   "language": "python",
   "name": "python3"
  },
  "language_info": {
   "codemirror_mode": {
    "name": "ipython",
    "version": 3
   },
   "file_extension": ".py",
   "mimetype": "text/x-python",
   "name": "python",
   "nbconvert_exporter": "python",
   "pygments_lexer": "ipython3",
   "version": "3.6.5"
  }
 },
 "nbformat": 4,
 "nbformat_minor": 4
}
