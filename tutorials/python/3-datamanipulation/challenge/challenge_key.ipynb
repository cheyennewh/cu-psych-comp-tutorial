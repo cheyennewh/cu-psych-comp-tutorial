{
 "cells": [
  {
   "cell_type": "markdown",
   "metadata": {},
   "source": [
    "# Descriptive Statistics Data Challange"
   ]
  },
  {
   "cell_type": "markdown",
   "metadata": {},
   "source": [
    "---\n",
    "## Goals of this challenge\n",
    "\n",
    "### Students will test their ability to:\n",
    "\n",
    "1. Group and categorize data in Python\n",
    "2. Generate  descriptive statistics in Python\n",
    "\n",
    "Using the same dataset as the lesson, complete the following exercises. Make sure to reload the .csv file from the folder, don't use the version we were working on during the tutorial if you still have it open.\n",
    "\n",
    "---"
   ]
  },
  {
   "cell_type": "code",
   "execution_count": 1,
   "metadata": {},
   "outputs": [],
   "source": [
    "# load packages we will be using for this lesson\n",
    "import pandas as pd"
   ]
  },
  {
   "cell_type": "markdown",
   "metadata": {},
   "source": [
    "---\n",
    "This dataset examines the relationship between multitasking and working memory.See the original paper by Uncapher et al. 2016:  https://www.ncbi.nlm.nih.gov/pmc/articles/PMC4733435/pdf/nihms712443.pd\n",
    "\n",
    "First open the data from csv:"
   ]
  },
  {
   "cell_type": "code",
   "execution_count": 2,
   "metadata": {},
   "outputs": [
    {
     "data": {
      "text/html": [
       "<div>\n",
       "<style scoped>\n",
       "    .dataframe tbody tr th:only-of-type {\n",
       "        vertical-align: middle;\n",
       "    }\n",
       "\n",
       "    .dataframe tbody tr th {\n",
       "        vertical-align: top;\n",
       "    }\n",
       "\n",
       "    .dataframe thead th {\n",
       "        text-align: right;\n",
       "    }\n",
       "</style>\n",
       "<table border=\"1\" class=\"dataframe\">\n",
       "  <thead>\n",
       "    <tr style=\"text-align: right;\">\n",
       "      <th></th>\n",
       "      <th>subjNum</th>\n",
       "      <th>groupStatus</th>\n",
       "      <th>numDist</th>\n",
       "      <th>conf</th>\n",
       "      <th>hitCount</th>\n",
       "      <th>allOldCount</th>\n",
       "      <th>rtHit</th>\n",
       "      <th>faCount</th>\n",
       "      <th>allNewCount</th>\n",
       "      <th>rtFA</th>\n",
       "      <th>distPresent</th>\n",
       "      <th>hitRate</th>\n",
       "      <th>faRate</th>\n",
       "      <th>dprime</th>\n",
       "      <th>mmi</th>\n",
       "      <th>adhd</th>\n",
       "      <th>bis</th>\n",
       "    </tr>\n",
       "  </thead>\n",
       "  <tbody>\n",
       "    <tr>\n",
       "      <th>0</th>\n",
       "      <td>6</td>\n",
       "      <td>HMM</td>\n",
       "      <td>0</td>\n",
       "      <td>hi</td>\n",
       "      <td>18</td>\n",
       "      <td>25</td>\n",
       "      <td>0.990657</td>\n",
       "      <td>3</td>\n",
       "      <td>50</td>\n",
       "      <td>1.062458</td>\n",
       "      <td>nodist</td>\n",
       "      <td>0.711538</td>\n",
       "      <td>0.068627</td>\n",
       "      <td>2.043976</td>\n",
       "      <td>5.77</td>\n",
       "      <td>4</td>\n",
       "      <td>74</td>\n",
       "    </tr>\n",
       "    <tr>\n",
       "      <th>1</th>\n",
       "      <td>6</td>\n",
       "      <td>HMM</td>\n",
       "      <td>6</td>\n",
       "      <td>hi</td>\n",
       "      <td>14</td>\n",
       "      <td>25</td>\n",
       "      <td>0.951638</td>\n",
       "      <td>3</td>\n",
       "      <td>50</td>\n",
       "      <td>1.062458</td>\n",
       "      <td>dist</td>\n",
       "      <td>0.557692</td>\n",
       "      <td>0.068627</td>\n",
       "      <td>1.631213</td>\n",
       "      <td>5.77</td>\n",
       "      <td>4</td>\n",
       "      <td>74</td>\n",
       "    </tr>\n",
       "    <tr>\n",
       "      <th>2</th>\n",
       "      <td>10</td>\n",
       "      <td>HMM</td>\n",
       "      <td>0</td>\n",
       "      <td>hi</td>\n",
       "      <td>5</td>\n",
       "      <td>25</td>\n",
       "      <td>1.081535</td>\n",
       "      <td>8</td>\n",
       "      <td>50</td>\n",
       "      <td>1.036764</td>\n",
       "      <td>nodist</td>\n",
       "      <td>0.211538</td>\n",
       "      <td>0.166667</td>\n",
       "      <td>0.166327</td>\n",
       "      <td>6.21</td>\n",
       "      <td>4</td>\n",
       "      <td>51</td>\n",
       "    </tr>\n",
       "    <tr>\n",
       "      <th>3</th>\n",
       "      <td>10</td>\n",
       "      <td>HMM</td>\n",
       "      <td>6</td>\n",
       "      <td>hi</td>\n",
       "      <td>5</td>\n",
       "      <td>25</td>\n",
       "      <td>0.999527</td>\n",
       "      <td>8</td>\n",
       "      <td>50</td>\n",
       "      <td>1.036764</td>\n",
       "      <td>dist</td>\n",
       "      <td>0.211538</td>\n",
       "      <td>0.166667</td>\n",
       "      <td>0.166327</td>\n",
       "      <td>6.21</td>\n",
       "      <td>4</td>\n",
       "      <td>51</td>\n",
       "    </tr>\n",
       "    <tr>\n",
       "      <th>4</th>\n",
       "      <td>14</td>\n",
       "      <td>HMM</td>\n",
       "      <td>0</td>\n",
       "      <td>hi</td>\n",
       "      <td>3</td>\n",
       "      <td>25</td>\n",
       "      <td>2.346210</td>\n",
       "      <td>4</td>\n",
       "      <td>50</td>\n",
       "      <td>2.075087</td>\n",
       "      <td>nodist</td>\n",
       "      <td>0.134615</td>\n",
       "      <td>0.088235</td>\n",
       "      <td>0.246866</td>\n",
       "      <td>8.60</td>\n",
       "      <td>5</td>\n",
       "      <td>62</td>\n",
       "    </tr>\n",
       "  </tbody>\n",
       "</table>\n",
       "</div>"
      ],
      "text/plain": [
       "   subjNum groupStatus  numDist conf  hitCount  allOldCount     rtHit  \\\n",
       "0        6         HMM        0   hi        18           25  0.990657   \n",
       "1        6         HMM        6   hi        14           25  0.951638   \n",
       "2       10         HMM        0   hi         5           25  1.081535   \n",
       "3       10         HMM        6   hi         5           25  0.999527   \n",
       "4       14         HMM        0   hi         3           25  2.346210   \n",
       "\n",
       "   faCount  allNewCount      rtFA distPresent   hitRate    faRate    dprime  \\\n",
       "0        3           50  1.062458      nodist  0.711538  0.068627  2.043976   \n",
       "1        3           50  1.062458        dist  0.557692  0.068627  1.631213   \n",
       "2        8           50  1.036764      nodist  0.211538  0.166667  0.166327   \n",
       "3        8           50  1.036764        dist  0.211538  0.166667  0.166327   \n",
       "4        4           50  2.075087      nodist  0.134615  0.088235  0.246866   \n",
       "\n",
       "    mmi  adhd  bis  \n",
       "0  5.77     4   74  \n",
       "1  5.77     4   74  \n",
       "2  6.21     4   51  \n",
       "3  6.21     4   51  \n",
       "4  8.60     5   62  "
      ]
     },
     "execution_count": 2,
     "metadata": {},
     "output_type": "execute_result"
    }
   ],
   "source": [
    "df = pd.read_csv(\"uncapher_2016_repeated_measures_dataset.csv\")\n",
    "df.head()"
   ]
  },
  {
   "cell_type": "markdown",
   "metadata": {},
   "source": [
    "Create a new data frame with only variables for subject number, group status, hitRate, faRate and bis. Also, we don't want any rows where the false alarm rate is above .3."
   ]
  },
  {
   "cell_type": "code",
   "execution_count": 3,
   "metadata": {},
   "outputs": [],
   "source": [
    "df = df[['subjNum','groupStatus','hitRate','faRate','dprime','bis']]\n",
    "df = df[df[\"faRate\"] < 0.3]"
   ]
  },
  {
   "cell_type": "markdown",
   "metadata": {},
   "source": [
    "What is the mean, range, and standard deviation of the false alarm (FA) rate for high and low multitaskers?"
   ]
  },
  {
   "cell_type": "code",
   "execution_count": 4,
   "metadata": {},
   "outputs": [
    {
     "data": {
      "text/plain": [
       "count    132.000000\n",
       "mean       0.073975\n",
       "std        0.059695\n",
       "min        0.009804\n",
       "25%        0.029412\n",
       "50%        0.049020\n",
       "75%        0.107843\n",
       "max        0.245098\n",
       "Name: faRate, dtype: float64"
      ]
     },
     "execution_count": 4,
     "metadata": {},
     "output_type": "execute_result"
    }
   ],
   "source": [
    "df[\"faRate\"].describe()"
   ]
  },
  {
   "cell_type": "markdown",
   "metadata": {},
   "source": [
    "Now, we will group participants based on their BIS score. The BIS is a personality questionnaire. First, create a new variable divided into high and low BIS scores based on a median split:"
   ]
  },
  {
   "cell_type": "code",
   "execution_count": 5,
   "metadata": {},
   "outputs": [],
   "source": [
    "df[\"bisF\"] = pd.cut(df[\"bis\"],bins=2,labels=[\"Low\",\"High\"])"
   ]
  },
  {
   "cell_type": "markdown",
   "metadata": {},
   "source": [
    "Now calculate average values for hitRate, faRate and dprime for the two groups."
   ]
  },
  {
   "cell_type": "code",
   "execution_count": 6,
   "metadata": {},
   "outputs": [
    {
     "data": {
      "text/html": [
       "<div>\n",
       "<style scoped>\n",
       "    .dataframe tbody tr th:only-of-type {\n",
       "        vertical-align: middle;\n",
       "    }\n",
       "\n",
       "    .dataframe tbody tr th {\n",
       "        vertical-align: top;\n",
       "    }\n",
       "\n",
       "    .dataframe thead th {\n",
       "        text-align: right;\n",
       "    }\n",
       "</style>\n",
       "<table border=\"1\" class=\"dataframe\">\n",
       "  <thead>\n",
       "    <tr style=\"text-align: right;\">\n",
       "      <th></th>\n",
       "      <th>faRate</th>\n",
       "      <th>hitRate</th>\n",
       "      <th>dprime</th>\n",
       "    </tr>\n",
       "    <tr>\n",
       "      <th>bisF</th>\n",
       "      <th></th>\n",
       "      <th></th>\n",
       "      <th></th>\n",
       "    </tr>\n",
       "  </thead>\n",
       "  <tbody>\n",
       "    <tr>\n",
       "      <th>Low</th>\n",
       "      <td>0.071747</td>\n",
       "      <td>0.34965</td>\n",
       "      <td>1.183805</td>\n",
       "    </tr>\n",
       "    <tr>\n",
       "      <th>High</th>\n",
       "      <td>0.078431</td>\n",
       "      <td>0.33042</td>\n",
       "      <td>1.075270</td>\n",
       "    </tr>\n",
       "  </tbody>\n",
       "</table>\n",
       "</div>"
      ],
      "text/plain": [
       "        faRate  hitRate    dprime\n",
       "bisF                             \n",
       "Low   0.071747  0.34965  1.183805\n",
       "High  0.078431  0.33042  1.075270"
      ]
     },
     "execution_count": 6,
     "metadata": {},
     "output_type": "execute_result"
    }
   ],
   "source": [
    "df.groupby([\"bisF\"])[[\"faRate\",\"hitRate\",\"dprime\"]].mean()"
   ]
  }
 ],
 "metadata": {
  "kernelspec": {
   "display_name": "Python 3",
   "language": "python",
   "name": "python3"
  },
  "language_info": {
   "codemirror_mode": {
    "name": "ipython",
    "version": 3
   },
   "file_extension": ".py",
   "mimetype": "text/x-python",
   "name": "python",
   "nbconvert_exporter": "python",
   "pygments_lexer": "ipython3",
   "version": "3.7.0"
  }
 },
 "nbformat": 4,
 "nbformat_minor": 2
}
