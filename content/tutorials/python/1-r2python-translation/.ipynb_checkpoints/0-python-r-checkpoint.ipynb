{
 "cells": [
  {
   "cell_type": "markdown",
   "metadata": {},
   "source": [
    "---\n",
    "title: \"Choosing Between R and Python\"\n",
    "subtitle: \"CU Psych Scientific Computing Workshop\"\n",
    "weight: 1101\n",
    "tags: [\"core\", \"R\", \"python\"]\n",
    "\n",
    "---"
   ]
  },
  {
   "cell_type": "markdown",
   "metadata": {},
   "source": [
    "![r python](https://www.javaassignmenthelp.com/blog/wp-content/uploads/2019/06/R-Vs-Python-730x410.jpg)\n"
   ]
  },
  {
   "cell_type": "markdown",
   "metadata": {},
   "source": [
    "# Links to Files and Video Recording\n",
    "\n",
    "The files for all tutorials can be downloaded from [the Columbia Psychology Scientific Computing GitHub page](https://github.com/cu-psych-computing/cu-psych-comp-tutorial){target=\"_blank\"} using [these instructions](/accessing-files/){target=\"_blank\"}. This particular file is located here: `/content/tutorials/python/1-r2python-translation/0-python-r.ipynb`.\n",
    "\n",
    "For a video recording of this tutorial from the Fall 2020 workshop, please visit the <a href=\"/workshop-recording-session3/\" target=\"_blank\">Workshop Recording: Session 3</a> page."
   ]
  },
  {
   "cell_type": "markdown",
   "metadata": {},
   "source": [
    "# A few quick points:\n",
    "\n",
    "- Among scientific computing languages the best language for you is the one that *you* find best fits your projects\n",
    "- We **really** encourage the use of either R and Python for research computing  for several reasons\n",
    "    - R and Python are open source! We believe in making scientific computing as accessible to as many people as possible\n",
    "    - R and Python both have TONS of tools for research computing, lots of documentation, and huge support communities around the world"
   ]
  },
  {
   "cell_type": "markdown",
   "metadata": {},
   "source": [
    "# Neither language is 'better' than the other\n",
    "\n",
    "### Depending on your application, one might be better suited\n",
    "\n",
    "#### R Strengths\n",
    "- Statistical Programming Language\n",
    "- Visualization(ggplot)\n",
    "- Web apps (shiny)\n",
    "- Statistical Model Interpretation \n",
    "\n",
    "#### Python Strengths\n",
    "- All purpose programming language\n",
    "- Neuroimaging\n",
    "- Task design (psychopy, pygame)\n",
    "- Machine learning (sklearn, tensorflow, keras)\n",
    "- Many programs/web tools have great python APIs\n",
    "- Web scraping"
   ]
  },
  {
   "cell_type": "markdown",
   "metadata": {},
   "source": [
    "# For research, helpful to know some of both!"
   ]
  },
  {
   "cell_type": "markdown",
   "metadata": {},
   "source": [
    "**Next:** [Getting Started with Jupyter Notebooks](/tutorials/python/1-r2python-translation/1-getting-started/)"
   ]
  }
 ],
 "metadata": {
  "kernelspec": {
   "display_name": "Python 3",
   "language": "python",
   "name": "python3"
  },
  "language_info": {
   "codemirror_mode": {
    "name": "ipython",
    "version": 3
   },
   "file_extension": ".py",
   "mimetype": "text/x-python",
   "name": "python",
   "nbconvert_exporter": "python",
   "pygments_lexer": "ipython3",
   "version": "3.8.3"
  }
 },
 "nbformat": 4,
 "nbformat_minor": 2
}
