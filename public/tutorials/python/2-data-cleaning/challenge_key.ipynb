{
 "cells": [
  {
   "cell_type": "markdown",
   "metadata": {},
   "source": [
    "# Data Cleaning Challenge!"
   ]
  },
  {
   "cell_type": "markdown",
   "metadata": {},
   "source": [
    "---\n",
    "## Goals of this lesson\n",
    "\n",
    "### Students will test their understanding of:\n",
    "\n",
    "1. How to open data in Python\n",
    "2. How to check for missing or problematic data and address issues.\n",
    "3. How to filter, rearrange and shape data in preparation for analysis.\n",
    "---\n",
    "## Your turn!\n",
    "\n",
    "Now it's your turn to try opening and cleaning a new data set. There are issues with the raw data, so make sure to inspect the variables and make changes when needed. Below is a rough outline to follow, try to get as far as you can.\n",
    "\n",
    "NOTE: This is the key for the data challenge, so it has all the code already. If you haven't done the challenge, go to the blank version and try doing it on your own. If you are using this key to check your work, remember that there are many ways to do things in Python, so what you did might not be what we did here, but it can still be right (it might even be better!).\n",
    "\n",
    "---\n"
   ]
  },
  {
   "cell_type": "code",
   "execution_count": 1,
   "metadata": {},
   "outputs": [],
   "source": [
    "import numpy as np\n",
    "import pandas as pd\n",
    "import matplotlib.pyplot as plt\n",
    "import seaborn as sns\n",
    "import os\n",
    "\n",
    "sns.set_context(\"poster\")\n",
    "sns.set(style=\"ticks\",font=\"Arial\",font_scale=2)"
   ]
  },
  {
   "cell_type": "markdown",
   "metadata": {},
   "source": [
    "## Open and visually inspect the data"
   ]
  },
  {
   "cell_type": "markdown",
   "metadata": {},
   "source": [
    "Read the data into Python. The file is called \"Study2_Subjects.csv\". Check out the separate \"README_Study2.txt\" file for information on the study and variables."
   ]
  },
  {
   "cell_type": "code",
   "execution_count": 10,
   "metadata": {},
   "outputs": [
    {
     "data": {
      "text/plain": [
       "'/Users/jonathan/Desktop/cu-psych-comp-tutorial/Python/dataCleaning'"
      ]
     },
     "execution_count": 10,
     "metadata": {},
     "output_type": "execute_result"
    }
   ],
   "source": [
    "os.getcwd()"
   ]
  },
  {
   "cell_type": "code",
   "execution_count": 11,
   "metadata": {},
   "outputs": [
    {
     "data": {
      "text/plain": [
       "['CleaningChallenge_Code.pynb',\n",
       " '.DS_Store',\n",
       " 'Study1_Followup.csv',\n",
       " 'Study2_Subjects.csv',\n",
       " 'Study1_clean.csv',\n",
       " 'DataCleaning_code.ipynb',\n",
       " '.ipynb_checkpoints',\n",
       " 'Study1.csv',\n",
       " 'README_Study2.txt',\n",
       " 'Study2_Trials.csv']"
      ]
     },
     "execution_count": 11,
     "metadata": {},
     "output_type": "execute_result"
    }
   ],
   "source": [
    "os.listdir()"
   ]
  },
  {
   "cell_type": "code",
   "execution_count": 18,
   "metadata": {},
   "outputs": [],
   "source": [
    "subjects = pd.read_table(\"Study2_Subjects.csv\", sep=\",\")"
   ]
  },
  {
   "cell_type": "markdown",
   "metadata": {},
   "source": [
    "View the first 5 rows of the data frame:"
   ]
  },
  {
   "cell_type": "code",
   "execution_count": 19,
   "metadata": {},
   "outputs": [
    {
     "data": {
      "text/html": [
       "<div>\n",
       "<style scoped>\n",
       "    .dataframe tbody tr th:only-of-type {\n",
       "        vertical-align: middle;\n",
       "    }\n",
       "\n",
       "    .dataframe tbody tr th {\n",
       "        vertical-align: top;\n",
       "    }\n",
       "\n",
       "    .dataframe thead th {\n",
       "        text-align: right;\n",
       "    }\n",
       "</style>\n",
       "<table border=\"1\" class=\"dataframe\">\n",
       "  <thead>\n",
       "    <tr style=\"text-align: right;\">\n",
       "      <th></th>\n",
       "      <th>ID</th>\n",
       "      <th>Age</th>\n",
       "      <th>Sex</th>\n",
       "      <th>Q1</th>\n",
       "      <th>Q2</th>\n",
       "      <th>Q3</th>\n",
       "      <th>Condition</th>\n",
       "    </tr>\n",
       "  </thead>\n",
       "  <tbody>\n",
       "    <tr>\n",
       "      <th>0</th>\n",
       "      <td>1</td>\n",
       "      <td>22</td>\n",
       "      <td>1</td>\n",
       "      <td>24.06</td>\n",
       "      <td>27.24</td>\n",
       "      <td>19.53</td>\n",
       "      <td>A</td>\n",
       "    </tr>\n",
       "    <tr>\n",
       "      <th>1</th>\n",
       "      <td>2</td>\n",
       "      <td>24</td>\n",
       "      <td>2</td>\n",
       "      <td>33.17</td>\n",
       "      <td>30.84</td>\n",
       "      <td>40.78</td>\n",
       "      <td>B</td>\n",
       "    </tr>\n",
       "    <tr>\n",
       "      <th>2</th>\n",
       "      <td>3</td>\n",
       "      <td>26</td>\n",
       "      <td>2</td>\n",
       "      <td>29.42</td>\n",
       "      <td>34.29</td>\n",
       "      <td>16.28</td>\n",
       "      <td>C</td>\n",
       "    </tr>\n",
       "    <tr>\n",
       "      <th>3</th>\n",
       "      <td>4</td>\n",
       "      <td>27</td>\n",
       "      <td>2</td>\n",
       "      <td>17.61</td>\n",
       "      <td>31.65</td>\n",
       "      <td>27.75</td>\n",
       "      <td>A</td>\n",
       "    </tr>\n",
       "    <tr>\n",
       "      <th>4</th>\n",
       "      <td>5</td>\n",
       "      <td>30</td>\n",
       "      <td>1</td>\n",
       "      <td>24.15</td>\n",
       "      <td>35.18</td>\n",
       "      <td>24.04</td>\n",
       "      <td>B</td>\n",
       "    </tr>\n",
       "  </tbody>\n",
       "</table>\n",
       "</div>"
      ],
      "text/plain": [
       "   ID  Age  Sex     Q1     Q2     Q3 Condition\n",
       "0   1   22    1  24.06  27.24  19.53         A\n",
       "1   2   24    2  33.17  30.84  40.78         B\n",
       "2   3   26    2  29.42  34.29  16.28         C\n",
       "3   4   27    2  17.61  31.65  27.75         A\n",
       "4   5   30    1  24.15  35.18  24.04         B"
      ]
     },
     "execution_count": 19,
     "metadata": {},
     "output_type": "execute_result"
    }
   ],
   "source": [
    "subjects.head()"
   ]
  },
  {
   "cell_type": "markdown",
   "metadata": {},
   "source": [
    "Examine the data for issues. Some things to look for: are the column names logical? Are there missing values? Do the variable types make sense? (ie does everything that's a factor make sense as a factor, and does everything that's numeric make sense as numeric?) Are there values that don't make sense? Fix any issues you find:"
   ]
  },
  {
   "cell_type": "code",
   "execution_count": 21,
   "metadata": {},
   "outputs": [
    {
     "data": {
      "image/png": "[encoded data removed]",
      "text/plain": [
       "<Figure size 432x288 with 1 Axes>"
      ]
     },
     "metadata": {},
     "output_type": "display_data"
    }
   ],
   "source": [
    "subjects[\"Age\"].hist();"
   ]
  },
  {
   "cell_type": "code",
   "execution_count": 22,
   "metadata": {},
   "outputs": [
    {
     "data": {
      "text/plain": [
       "0    1\n",
       "1    2\n",
       "2    2\n",
       "3    2\n",
       "4    1\n",
       "5    1\n",
       "6    1\n",
       "7    1\n",
       "8    1\n",
       "9    2\n",
       "Name: Sex, dtype: int64"
      ]
     },
     "execution_count": 22,
     "metadata": {},
     "output_type": "execute_result"
    }
   ],
   "source": [
    "subjects[\"Sex\"]"
   ]
  },
  {
   "cell_type": "code",
   "execution_count": 23,
   "metadata": {},
   "outputs": [
    {
     "data": {
      "image/png": "[encoded data removed]",
      "text/plain": [
       "<Figure size 432x288 with 1 Axes>"
      ]
     },
     "metadata": {},
     "output_type": "display_data"
    }
   ],
   "source": [
    "subjects[\"Q1\"].hist();"
   ]
  },
  {
   "cell_type": "code",
   "execution_count": 24,
   "metadata": {},
   "outputs": [
    {
     "data": {
      "image/png": "[encoded data removed]",
      "text/plain": [
       "<Figure size 432x288 with 1 Axes>"
      ]
     },
     "metadata": {},
     "output_type": "display_data"
    }
   ],
   "source": [
    "subjects[\"Q2\"].hist();"
   ]
  },
  {
   "cell_type": "code",
   "execution_count": 25,
   "metadata": {},
   "outputs": [
    {
     "data": {
      "image/png": "[encoded data removed]",
      "text/plain": [
       "<Figure size 432x288 with 1 Axes>"
      ]
     },
     "metadata": {},
     "output_type": "display_data"
    }
   ],
   "source": [
    "subjects[\"Q3\"].hist();"
   ]
  },
  {
   "cell_type": "code",
   "execution_count": 26,
   "metadata": {},
   "outputs": [
    {
     "data": {
      "text/plain": [
       "0      A\n",
       "1      B\n",
       "2      C\n",
       "3      A\n",
       "4      B\n",
       "5      C\n",
       "6      A\n",
       "7      B\n",
       "8    NaN\n",
       "9      A\n",
       "Name: Condition, dtype: object"
      ]
     },
     "execution_count": 26,
     "metadata": {},
     "output_type": "execute_result"
    }
   ],
   "source": [
    "subjects[\"Condition\"]"
   ]
  },
  {
   "cell_type": "code",
   "execution_count": 27,
   "metadata": {},
   "outputs": [
    {
     "data": {
      "text/html": [
       "<div>\n",
       "<style scoped>\n",
       "    .dataframe tbody tr th:only-of-type {\n",
       "        vertical-align: middle;\n",
       "    }\n",
       "\n",
       "    .dataframe tbody tr th {\n",
       "        vertical-align: top;\n",
       "    }\n",
       "\n",
       "    .dataframe thead th {\n",
       "        text-align: right;\n",
       "    }\n",
       "</style>\n",
       "<table border=\"1\" class=\"dataframe\">\n",
       "  <thead>\n",
       "    <tr style=\"text-align: right;\">\n",
       "      <th></th>\n",
       "      <th>ID</th>\n",
       "      <th>Age</th>\n",
       "      <th>Sex</th>\n",
       "      <th>Q1</th>\n",
       "      <th>Q2</th>\n",
       "      <th>Q3</th>\n",
       "      <th>Condition</th>\n",
       "    </tr>\n",
       "  </thead>\n",
       "  <tbody>\n",
       "    <tr>\n",
       "      <th>0</th>\n",
       "      <td>False</td>\n",
       "      <td>False</td>\n",
       "      <td>False</td>\n",
       "      <td>False</td>\n",
       "      <td>False</td>\n",
       "      <td>False</td>\n",
       "      <td>False</td>\n",
       "    </tr>\n",
       "    <tr>\n",
       "      <th>1</th>\n",
       "      <td>False</td>\n",
       "      <td>False</td>\n",
       "      <td>False</td>\n",
       "      <td>False</td>\n",
       "      <td>False</td>\n",
       "      <td>False</td>\n",
       "      <td>False</td>\n",
       "    </tr>\n",
       "    <tr>\n",
       "      <th>2</th>\n",
       "      <td>False</td>\n",
       "      <td>False</td>\n",
       "      <td>False</td>\n",
       "      <td>False</td>\n",
       "      <td>False</td>\n",
       "      <td>False</td>\n",
       "      <td>False</td>\n",
       "    </tr>\n",
       "    <tr>\n",
       "      <th>3</th>\n",
       "      <td>False</td>\n",
       "      <td>False</td>\n",
       "      <td>False</td>\n",
       "      <td>False</td>\n",
       "      <td>False</td>\n",
       "      <td>False</td>\n",
       "      <td>False</td>\n",
       "    </tr>\n",
       "    <tr>\n",
       "      <th>4</th>\n",
       "      <td>False</td>\n",
       "      <td>False</td>\n",
       "      <td>False</td>\n",
       "      <td>False</td>\n",
       "      <td>False</td>\n",
       "      <td>False</td>\n",
       "      <td>False</td>\n",
       "    </tr>\n",
       "    <tr>\n",
       "      <th>5</th>\n",
       "      <td>False</td>\n",
       "      <td>False</td>\n",
       "      <td>False</td>\n",
       "      <td>False</td>\n",
       "      <td>False</td>\n",
       "      <td>False</td>\n",
       "      <td>False</td>\n",
       "    </tr>\n",
       "    <tr>\n",
       "      <th>6</th>\n",
       "      <td>False</td>\n",
       "      <td>False</td>\n",
       "      <td>False</td>\n",
       "      <td>False</td>\n",
       "      <td>False</td>\n",
       "      <td>False</td>\n",
       "      <td>False</td>\n",
       "    </tr>\n",
       "    <tr>\n",
       "      <th>7</th>\n",
       "      <td>False</td>\n",
       "      <td>False</td>\n",
       "      <td>False</td>\n",
       "      <td>False</td>\n",
       "      <td>False</td>\n",
       "      <td>False</td>\n",
       "      <td>False</td>\n",
       "    </tr>\n",
       "    <tr>\n",
       "      <th>8</th>\n",
       "      <td>False</td>\n",
       "      <td>False</td>\n",
       "      <td>False</td>\n",
       "      <td>False</td>\n",
       "      <td>False</td>\n",
       "      <td>False</td>\n",
       "      <td>True</td>\n",
       "    </tr>\n",
       "    <tr>\n",
       "      <th>9</th>\n",
       "      <td>False</td>\n",
       "      <td>False</td>\n",
       "      <td>False</td>\n",
       "      <td>False</td>\n",
       "      <td>False</td>\n",
       "      <td>False</td>\n",
       "      <td>False</td>\n",
       "    </tr>\n",
       "  </tbody>\n",
       "</table>\n",
       "</div>"
      ],
      "text/plain": [
       "      ID    Age    Sex     Q1     Q2     Q3  Condition\n",
       "0  False  False  False  False  False  False      False\n",
       "1  False  False  False  False  False  False      False\n",
       "2  False  False  False  False  False  False      False\n",
       "3  False  False  False  False  False  False      False\n",
       "4  False  False  False  False  False  False      False\n",
       "5  False  False  False  False  False  False      False\n",
       "6  False  False  False  False  False  False      False\n",
       "7  False  False  False  False  False  False      False\n",
       "8  False  False  False  False  False  False       True\n",
       "9  False  False  False  False  False  False      False"
      ]
     },
     "execution_count": 27,
     "metadata": {},
     "output_type": "execute_result"
    }
   ],
   "source": [
    "#check for missing values\n",
    "subjects.isnull()"
   ]
  },
  {
   "cell_type": "markdown",
   "metadata": {},
   "source": [
    "---\n",
    "## Correcting data issues\n",
    "Remember to check the README for additional information on the data that may help you decide what needs to be fixed."
   ]
  },
  {
   "cell_type": "markdown",
   "metadata": {},
   "source": [
    "The Condition variable has a missing data point for sub 9:"
   ]
  },
  {
   "cell_type": "code",
   "execution_count": 28,
   "metadata": {},
   "outputs": [],
   "source": [
    "subjects.loc[subjects[\"ID\"]==9, \"Condition\"] = \"C\""
   ]
  },
  {
   "cell_type": "markdown",
   "metadata": {},
   "source": [
    "The variables Q1, Q2 and Q3 don't have useful names, update them to something useful:"
   ]
  },
  {
   "cell_type": "code",
   "execution_count": 35,
   "metadata": {},
   "outputs": [],
   "source": [
    "subjects = subjects.rename({'Q1':'Anxiety',\n",
    "                            'Q2':'Depression',\n",
    "                            'Q3':'Stress'}, axis=\"columns\")"
   ]
  },
  {
   "cell_type": "markdown",
   "metadata": {},
   "source": [
    "The sex variable is coded in a non-intuitive way, change it to male/female:"
   ]
  },
  {
   "cell_type": "code",
   "execution_count": 34,
   "metadata": {},
   "outputs": [],
   "source": [
    "subjects[\"Sex\"] = subjects[\"Sex\"].replace({1:\"Male\",2:\"Female\"})"
   ]
  },
  {
   "cell_type": "markdown",
   "metadata": {},
   "source": [
    "---\n",
    "## Create new Variables\n",
    "\n",
    "Each subject in this study filled out three related questionnaires, but these scores can be combined into a composite score but taking the sum. Create a new variable for this score:\n"
   ]
  },
  {
   "cell_type": "code",
   "execution_count": 42,
   "metadata": {},
   "outputs": [],
   "source": [
    "subjects[\"Composite\"] = subjects[[\"Anxiety\",\"Depression\",\"Stress\"]].sum(axis=\"columns\")"
   ]
  },
  {
   "cell_type": "markdown",
   "metadata": {},
   "source": [
    "---\n",
    "## Combine two datasets together and reshape\n",
    "\n",
    "You see there's another .csv file for Study 2, this one's called Study2_Trials.csv. Open it and take a look. This frame has the same 10 subjects, but now it has reaction time data from a task with 30 trials. Create a new data frame that combines this with your subject level information:"
   ]
  },
  {
   "cell_type": "code",
   "execution_count": 51,
   "metadata": {},
   "outputs": [
    {
     "data": {
      "text/html": [
       "<div>\n",
       "<style scoped>\n",
       "    .dataframe tbody tr th:only-of-type {\n",
       "        vertical-align: middle;\n",
       "    }\n",
       "\n",
       "    .dataframe tbody tr th {\n",
       "        vertical-align: top;\n",
       "    }\n",
       "\n",
       "    .dataframe thead th {\n",
       "        text-align: right;\n",
       "    }\n",
       "</style>\n",
       "<table border=\"1\" class=\"dataframe\">\n",
       "  <thead>\n",
       "    <tr style=\"text-align: right;\">\n",
       "      <th></th>\n",
       "      <th>ID</th>\n",
       "      <th>Age</th>\n",
       "      <th>Sex</th>\n",
       "      <th>Anxiety</th>\n",
       "      <th>Depression</th>\n",
       "      <th>Stress</th>\n",
       "      <th>Condition</th>\n",
       "      <th>Composite</th>\n",
       "      <th>RT_1</th>\n",
       "      <th>RT_2</th>\n",
       "      <th>...</th>\n",
       "      <th>RT_21</th>\n",
       "      <th>RT_22</th>\n",
       "      <th>RT_23</th>\n",
       "      <th>RT_24</th>\n",
       "      <th>RT_25</th>\n",
       "      <th>RT_26</th>\n",
       "      <th>RT_27</th>\n",
       "      <th>RT_28</th>\n",
       "      <th>RT_29</th>\n",
       "      <th>RT_30</th>\n",
       "    </tr>\n",
       "  </thead>\n",
       "  <tbody>\n",
       "    <tr>\n",
       "      <th>0</th>\n",
       "      <td>1</td>\n",
       "      <td>22</td>\n",
       "      <td>Male</td>\n",
       "      <td>24.06</td>\n",
       "      <td>27.24</td>\n",
       "      <td>19.53</td>\n",
       "      <td>A</td>\n",
       "      <td>70.83</td>\n",
       "      <td>1.933</td>\n",
       "      <td>4.141</td>\n",
       "      <td>...</td>\n",
       "      <td>3.445</td>\n",
       "      <td>3.081</td>\n",
       "      <td>4.122</td>\n",
       "      <td>2.766</td>\n",
       "      <td>1.100</td>\n",
       "      <td>3.826</td>\n",
       "      <td>1.505</td>\n",
       "      <td>3.395</td>\n",
       "      <td>2.035</td>\n",
       "      <td>3.184</td>\n",
       "    </tr>\n",
       "    <tr>\n",
       "      <th>1</th>\n",
       "      <td>2</td>\n",
       "      <td>24</td>\n",
       "      <td>Female</td>\n",
       "      <td>33.17</td>\n",
       "      <td>30.84</td>\n",
       "      <td>40.78</td>\n",
       "      <td>B</td>\n",
       "      <td>104.79</td>\n",
       "      <td>4.586</td>\n",
       "      <td>4.598</td>\n",
       "      <td>...</td>\n",
       "      <td>3.716</td>\n",
       "      <td>4.691</td>\n",
       "      <td>4.979</td>\n",
       "      <td>2.358</td>\n",
       "      <td>3.157</td>\n",
       "      <td>4.603</td>\n",
       "      <td>4.306</td>\n",
       "      <td>5.390</td>\n",
       "      <td>3.486</td>\n",
       "      <td>5.483</td>\n",
       "    </tr>\n",
       "    <tr>\n",
       "      <th>2</th>\n",
       "      <td>3</td>\n",
       "      <td>26</td>\n",
       "      <td>Female</td>\n",
       "      <td>29.42</td>\n",
       "      <td>34.29</td>\n",
       "      <td>16.28</td>\n",
       "      <td>C</td>\n",
       "      <td>79.99</td>\n",
       "      <td>3.067</td>\n",
       "      <td>1.851</td>\n",
       "      <td>...</td>\n",
       "      <td>3.225</td>\n",
       "      <td>2.962</td>\n",
       "      <td>3.038</td>\n",
       "      <td>5.075</td>\n",
       "      <td>3.778</td>\n",
       "      <td>3.761</td>\n",
       "      <td>2.338</td>\n",
       "      <td>3.614</td>\n",
       "      <td>3.569</td>\n",
       "      <td>3.048</td>\n",
       "    </tr>\n",
       "    <tr>\n",
       "      <th>3</th>\n",
       "      <td>4</td>\n",
       "      <td>27</td>\n",
       "      <td>Female</td>\n",
       "      <td>17.61</td>\n",
       "      <td>31.65</td>\n",
       "      <td>27.75</td>\n",
       "      <td>A</td>\n",
       "      <td>77.01</td>\n",
       "      <td>3.871</td>\n",
       "      <td>2.929</td>\n",
       "      <td>...</td>\n",
       "      <td>3.458</td>\n",
       "      <td>3.118</td>\n",
       "      <td>2.827</td>\n",
       "      <td>3.971</td>\n",
       "      <td>1.195</td>\n",
       "      <td>2.963</td>\n",
       "      <td>1.653</td>\n",
       "      <td>2.516</td>\n",
       "      <td>1.871</td>\n",
       "      <td>5.568</td>\n",
       "    </tr>\n",
       "    <tr>\n",
       "      <th>4</th>\n",
       "      <td>5</td>\n",
       "      <td>30</td>\n",
       "      <td>Male</td>\n",
       "      <td>24.15</td>\n",
       "      <td>35.18</td>\n",
       "      <td>24.04</td>\n",
       "      <td>B</td>\n",
       "      <td>83.37</td>\n",
       "      <td>4.781</td>\n",
       "      <td>5.699</td>\n",
       "      <td>...</td>\n",
       "      <td>5.121</td>\n",
       "      <td>4.901</td>\n",
       "      <td>2.644</td>\n",
       "      <td>2.731</td>\n",
       "      <td>4.313</td>\n",
       "      <td>4.918</td>\n",
       "      <td>6.338</td>\n",
       "      <td>2.183</td>\n",
       "      <td>5.746</td>\n",
       "      <td>4.041</td>\n",
       "    </tr>\n",
       "  </tbody>\n",
       "</table>\n",
       "<p>5 rows × 38 columns</p>\n",
       "</div>"
      ],
      "text/plain": [
       "   ID  Age     Sex  Anxiety  Depression  Stress Condition  Composite   RT_1  \\\n",
       "0   1   22    Male    24.06       27.24   19.53         A      70.83  1.933   \n",
       "1   2   24  Female    33.17       30.84   40.78         B     104.79  4.586   \n",
       "2   3   26  Female    29.42       34.29   16.28         C      79.99  3.067   \n",
       "3   4   27  Female    17.61       31.65   27.75         A      77.01  3.871   \n",
       "4   5   30    Male    24.15       35.18   24.04         B      83.37  4.781   \n",
       "\n",
       "    RT_2  ...  RT_21  RT_22  RT_23  RT_24  RT_25  RT_26  RT_27  RT_28  RT_29  \\\n",
       "0  4.141  ...  3.445  3.081  4.122  2.766  1.100  3.826  1.505  3.395  2.035   \n",
       "1  4.598  ...  3.716  4.691  4.979  2.358  3.157  4.603  4.306  5.390  3.486   \n",
       "2  1.851  ...  3.225  2.962  3.038  5.075  3.778  3.761  2.338  3.614  3.569   \n",
       "3  2.929  ...  3.458  3.118  2.827  3.971  1.195  2.963  1.653  2.516  1.871   \n",
       "4  5.699  ...  5.121  4.901  2.644  2.731  4.313  4.918  6.338  2.183  5.746   \n",
       "\n",
       "   RT_30  \n",
       "0  3.184  \n",
       "1  5.483  \n",
       "2  3.048  \n",
       "3  5.568  \n",
       "4  4.041  \n",
       "\n",
       "[5 rows x 38 columns]"
      ]
     },
     "execution_count": 51,
     "metadata": {},
     "output_type": "execute_result"
    }
   ],
   "source": [
    "trials = pd.read_table(\"Study2_Trials.csv\", sep=\",\")\n",
    "data = subjects.merge(trials,on=\"ID\")\n",
    "data.head()"
   ]
  },
  {
   "cell_type": "markdown",
   "metadata": {},
   "source": [
    "Now that you have a one frame with all the data, put it into long format. Each subject should have one row for each trial."
   ]
  },
  {
   "cell_type": "code",
   "execution_count": 59,
   "metadata": {},
   "outputs": [
    {
     "data": {
      "text/html": [
       "<div>\n",
       "<style scoped>\n",
       "    .dataframe tbody tr th:only-of-type {\n",
       "        vertical-align: middle;\n",
       "    }\n",
       "\n",
       "    .dataframe tbody tr th {\n",
       "        vertical-align: top;\n",
       "    }\n",
       "\n",
       "    .dataframe thead th {\n",
       "        text-align: right;\n",
       "    }\n",
       "</style>\n",
       "<table border=\"1\" class=\"dataframe\">\n",
       "  <thead>\n",
       "    <tr style=\"text-align: right;\">\n",
       "      <th></th>\n",
       "      <th>ID</th>\n",
       "      <th>Age</th>\n",
       "      <th>Sex</th>\n",
       "      <th>Anxiety</th>\n",
       "      <th>Depression</th>\n",
       "      <th>Stress</th>\n",
       "      <th>Condition</th>\n",
       "      <th>Composite</th>\n",
       "      <th>Trial</th>\n",
       "      <th>RT</th>\n",
       "    </tr>\n",
       "  </thead>\n",
       "  <tbody>\n",
       "    <tr>\n",
       "      <th>0</th>\n",
       "      <td>1</td>\n",
       "      <td>22</td>\n",
       "      <td>Male</td>\n",
       "      <td>24.06</td>\n",
       "      <td>27.24</td>\n",
       "      <td>19.53</td>\n",
       "      <td>A</td>\n",
       "      <td>70.83</td>\n",
       "      <td>RT_1</td>\n",
       "      <td>1.933</td>\n",
       "    </tr>\n",
       "    <tr>\n",
       "      <th>1</th>\n",
       "      <td>2</td>\n",
       "      <td>24</td>\n",
       "      <td>Female</td>\n",
       "      <td>33.17</td>\n",
       "      <td>30.84</td>\n",
       "      <td>40.78</td>\n",
       "      <td>B</td>\n",
       "      <td>104.79</td>\n",
       "      <td>RT_1</td>\n",
       "      <td>4.586</td>\n",
       "    </tr>\n",
       "    <tr>\n",
       "      <th>2</th>\n",
       "      <td>3</td>\n",
       "      <td>26</td>\n",
       "      <td>Female</td>\n",
       "      <td>29.42</td>\n",
       "      <td>34.29</td>\n",
       "      <td>16.28</td>\n",
       "      <td>C</td>\n",
       "      <td>79.99</td>\n",
       "      <td>RT_1</td>\n",
       "      <td>3.067</td>\n",
       "    </tr>\n",
       "    <tr>\n",
       "      <th>3</th>\n",
       "      <td>4</td>\n",
       "      <td>27</td>\n",
       "      <td>Female</td>\n",
       "      <td>17.61</td>\n",
       "      <td>31.65</td>\n",
       "      <td>27.75</td>\n",
       "      <td>A</td>\n",
       "      <td>77.01</td>\n",
       "      <td>RT_1</td>\n",
       "      <td>3.871</td>\n",
       "    </tr>\n",
       "    <tr>\n",
       "      <th>4</th>\n",
       "      <td>5</td>\n",
       "      <td>30</td>\n",
       "      <td>Male</td>\n",
       "      <td>24.15</td>\n",
       "      <td>35.18</td>\n",
       "      <td>24.04</td>\n",
       "      <td>B</td>\n",
       "      <td>83.37</td>\n",
       "      <td>RT_1</td>\n",
       "      <td>4.781</td>\n",
       "    </tr>\n",
       "  </tbody>\n",
       "</table>\n",
       "</div>"
      ],
      "text/plain": [
       "   ID  Age     Sex  Anxiety  Depression  Stress Condition  Composite Trial  \\\n",
       "0   1   22    Male    24.06       27.24   19.53         A      70.83  RT_1   \n",
       "1   2   24  Female    33.17       30.84   40.78         B     104.79  RT_1   \n",
       "2   3   26  Female    29.42       34.29   16.28         C      79.99  RT_1   \n",
       "3   4   27  Female    17.61       31.65   27.75         A      77.01  RT_1   \n",
       "4   5   30    Male    24.15       35.18   24.04         B      83.37  RT_1   \n",
       "\n",
       "      RT  \n",
       "0  1.933  \n",
       "1  4.586  \n",
       "2  3.067  \n",
       "3  3.871  \n",
       "4  4.781  "
      ]
     },
     "execution_count": 59,
     "metadata": {},
     "output_type": "execute_result"
    }
   ],
   "source": [
    "id_cols, value_cols = [], []\n",
    "for column in data.columns:\n",
    "    if 'RT' in column:\n",
    "        value_cols.append(column)\n",
    "    else:\n",
    "        id_cols.append(column)\n",
    "    \n",
    "data_long = pd.melt(data,id_vars=id_cols,var_name=\"Trial\",value_vars=value_cols,value_name=\"RT\")\n",
    "data_long.head()"
   ]
  },
  {
   "cell_type": "markdown",
   "metadata": {},
   "source": [
    "You want to do a separate analysis only on the people who had a high score on the anxiety questionnaire. Create a new data frame (in long format) with just the individuals who got 25 or higher:"
   ]
  },
  {
   "cell_type": "code",
   "execution_count": 61,
   "metadata": {},
   "outputs": [],
   "source": [
    "subset = data_long[data_long[\"Anxiety\"] >= 25]"
   ]
  }
 ],
 "metadata": {
  "kernelspec": {
   "display_name": "Python 3",
   "language": "python",
   "name": "python3"
  },
  "language_info": {
   "codemirror_mode": {
    "name": "ipython",
    "version": 3
   },
   "file_extension": ".py",
   "mimetype": "text/x-python",
   "name": "python",
   "nbconvert_exporter": "python",
   "pygments_lexer": "ipython3",
   "version": "3.7.0"
  }
 },
 "nbformat": 4,
 "nbformat_minor": 2
}
