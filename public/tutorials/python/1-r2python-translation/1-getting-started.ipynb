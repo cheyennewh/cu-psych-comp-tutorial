{
 "cells": [
  {
   "cell_type": "markdown",
   "metadata": {},
   "source": [
    "---\n",
    "title: \"Getting Started with Jupyter Notebooks\"\n",
    "subtitle: \"CU Psych Scientific Computing Workshop\"\n",
    "weight: 1102\n",
    "tags: [\"core\", \"python\"]\n",
    "\n",
    "---"
   ]
  },
  {
   "cell_type": "markdown",
   "metadata": {},
   "source": [
    "## Goals:\n",
    "\n",
    "- Students will feel comfortable navigating the jupyter notebook layout\n",
    "- Students will be able to access their computer's file structure through jupyter notebook\n",
    "\n",
    "## Links to Files and Video Recording\n",
    "\n",
    "The files for all tutorials can be downloaded from [the Columbia Psychology Scientific Computing GitHub page](https://github.com/cu-psych-computing/cu-psych-comp-tutorial) using [these instructions](/accessing-files/). This particular file is located here: `/content/tutorials/python/1-r2python-translation/1-getting-started.ipynb`.\n",
    "\n",
    "For a video recording of this tutorial from the Fall 2020 workshop, please visit the <a href=\"/workshop-recording/session3/\" target=\"_blank\">Workshop Recording: Session 3</a> page.\n",
    "\n",
    "\n",
    "## What is a jupyter notebook anyway?\n",
    "\n",
    "- Jupyter notebooks are a tool for working in python (and other languages). \n",
    "- They allow you to create and run individual chunks of code along with markdown and plain text (so they can kinda be like a regular notebook too!)\n",
    "- You can see outputs immeadiately, right in the notebook\n",
    "- Conceptually pretty similar to R Markdown\n",
    "   \n",
    "\n",
    "## Why use jupyter notebooks?\n",
    "- Code + markdown allows for records of lots of things in one place\n",
    "- Great for trying lots of things/visualizing output\n",
    "- Great for communicating/group projects!\n",
    "\n",
    "\n",
    "Here's a [cheat sheet](https://medium.com/ibm-data-science-experience/markdown-for-jupyter-notebooks-cheatsheet-386c05aeebed) for formatting in Jupyter Notebooks: \n",
    "\n",
    "\n",
    "\n",
    "## How can I run code in a jupyter notebook?\n",
    "- To run all code in a single cell, press shift + enter in that cell\n",
    "- In the 'Cell' menu, there are also options for running all cells, or all cells below/above the current one\n",
    "- Cells can also have comments where the line starts with `#` -- these are not run\n",
    "\n",
    "\n"
   ]
  },
  {
   "cell_type": "code",
   "execution_count": 1,
   "metadata": {},
   "outputs": [
    {
     "data": {
      "text/plain": [
       "4"
      ]
     },
     "execution_count": 1,
     "metadata": {},
     "output_type": "execute_result"
    }
   ],
   "source": [
    "2+2\n",
    "# Here's a comment"
   ]
  },
  {
   "cell_type": "markdown",
   "metadata": {},
   "source": [
    "## You can also add images\n",
    "![Jupyter Meme](https://echanclarityinsights.github.io/images/2018-12-26/cat-meme.jpg)\n"
   ]
  },
  {
   "cell_type": "markdown",
   "metadata": {},
   "source": [
    "# Loading modules"
   ]
  },
  {
   "cell_type": "markdown",
   "metadata": {},
   "source": [
    "Regular python can do a lot, but one of the main reasons why it is used so much is that there are many **modules**, or build-on sets of functions, that are extremely helpful. Similarly to how in R we load packages, we can load these modules for use using the `import` command. \n",
    "\n",
    "For the purposes of these tutorials, we'll use these modules a lot. Although not strictly necessary, there are standard abbreviations for importing some of these modules"
   ]
  },
  {
   "cell_type": "code",
   "execution_count": 2,
   "metadata": {},
   "outputs": [],
   "source": [
    "import numpy as np\n",
    "import pandas as pd\n",
    "import matplotlib.pyplot as plt\n",
    "import seaborn as sns"
   ]
  },
  {
   "cell_type": "markdown",
   "metadata": {},
   "source": [
    "We will discuss some of these modules in more detail as we get to later sections"
   ]
  },
  {
   "cell_type": "markdown",
   "metadata": {},
   "source": [
    "# Navigating files using jupyter notebooks\n",
    "\n",
    "There are a few ways you start jupyter notebooks running:\n",
    "- You can type `jupyter notebook` from your command line\n",
    "- If you use Anaconda, you can click the jupyter notebook icon from the Anaconda menu\n",
    "- jupyter notebooks by default save themselves every few seconds, but you can always check the top (next to the file name) to see when the notebook was last saved\n"
   ]
  },
  {
   "cell_type": "markdown",
   "metadata": {},
   "source": [
    "## The working directory\n",
    "\n",
    "Every python session has a _working directory,_ or a \"home base\" folder. Essentially, this is the folder that python is \"in\". By default, the working directory of a jupyter notebook will be wherever that notebook file (ending in .ipynb) is saved\n",
    "\n",
    "\n",
    "## File paths\n",
    "\n",
    "Every single file and folder on your computer has an address. You can navigate these paths in your computer's built in file browser, but in order for python to be able to access these files, you have to tell python the address.\n",
    "\n",
    "* Mac/Linux: `\"Folder name/Sub-folder name/File\"` (note the forward slashes!)\n",
    "* Windows: `\"Folder name\\Sub-folder name\\File\"` (note the backward slashes this time!)\n",
    "\n",
    "\n",
    "### Absolute file paths\n",
    "\n",
    "An **absolute file path** is a file's full address on your computer.  The way you specify that a file path starts from the root folder (the front entrance to your computer) differs operating systems:\n",
    "\n",
    "* Mac/Linux: Start your file path with _a single forward slash,_ e.g. `\"/Users/me/Documents/etc\"`\n",
    "* Windows: Start your file path with _the name of your drive,_ e.g. `\"C:\\Users\\me\\My Documents\\etc\"`\n",
    "\n",
    "### Relative file paths\n",
    "\n",
    "Relative file paths are directions that assume you're starting in the current working directory .\n",
    "\n",
    "Relative file paths are shorter to type (because you don't need to specify all the directions to get from the root folder to the current working directory), but they do depend on what the current working directory is. \n",
    "\n",
    "To specify a relative path, you only need to start your path with file or folder name that exists in your current working directory. Any path that does _not_ start with a forward-slash or drive name is assumed to be a relative path, so your computer will start looking in your current working directory.\n",
    "\n",
    "### How to go 'up' a level\n",
    "\n",
    "`../` (on mac/linux) or `..\\` on windows take you 'up' and out of the folder you are currently in.\n",
    " - You can chain these together to go up several levels if you want (`'../../otherFolder/myFile/csv'`)\n"
   ]
  },
  {
   "cell_type": "markdown",
   "metadata": {},
   "source": [
    "#### The `os` module\n",
    "\n",
    "In order to get information about files that are available to us to read into Python, we will be working with the `os` module. This module provides a way to interface with the operating system we are running Python on (Windows, Mac, or Linux). Let's start by first loading this module:"
   ]
  },
  {
   "cell_type": "code",
   "execution_count": 3,
   "metadata": {},
   "outputs": [],
   "source": [
    "import os"
   ]
  },
  {
   "cell_type": "markdown",
   "metadata": {},
   "source": [
    "#### What's your working directory and where is the file you want?\n",
    "\n",
    "Your working directory is the directory (and subdirectories) where the files you're working with are stored. You can check your working directory using `os.getcwd()`"
   ]
  },
  {
   "cell_type": "code",
   "execution_count": 4,
   "metadata": {},
   "outputs": [
    {
     "data": {
      "text/plain": [
       "'/Users/emily/Documents/GitHub/cu-psych-comp-tutorial/content/tutorials/python/1-r2python-translation'"
      ]
     },
     "execution_count": 4,
     "metadata": {},
     "output_type": "execute_result"
    }
   ],
   "source": [
    "os.getcwd()"
   ]
  },
  {
   "cell_type": "code",
   "execution_count": 5,
   "metadata": {},
   "outputs": [
    {
     "data": {
      "text/plain": [
       "['1-getting-started.md',\n",
       " '.DS_Store',\n",
       " '0-python-r.ipynb',\n",
       " '2-intro-programming.ipynb',\n",
       " '2-intro-programming.md',\n",
       " '0-python-r.md',\n",
       " '3-control-flow.md',\n",
       " '.ipynb_checkpoints',\n",
       " '3-control-flow.ipynb',\n",
       " '1-getting-started.ipynb',\n",
       " '_index.md']"
      ]
     },
     "execution_count": 5,
     "metadata": {},
     "output_type": "execute_result"
    }
   ],
   "source": [
    "os.listdir()"
   ]
  },
  {
   "cell_type": "markdown",
   "metadata": {},
   "source": [
    "You can access a list of everything (all files and directories) within your working directory using the `os.listdir()` function...\n"
   ]
  },
  {
   "cell_type": "markdown",
   "metadata": {},
   "source": [
    "**Next:** [Intro to Programming in Python](/tutorials/python/1-r2python-translation/2-intro-programming/)"
   ]
  }
 ],
 "metadata": {
  "kernelspec": {
   "display_name": "Python 3",
   "language": "python",
   "name": "python3"
  },
  "language_info": {
   "codemirror_mode": {
    "name": "ipython",
    "version": 3
   },
   "file_extension": ".py",
   "mimetype": "text/x-python",
   "name": "python",
   "nbconvert_exporter": "python",
   "pygments_lexer": "ipython3",
   "version": "3.8.3"
  }
 },
 "nbformat": 4,
 "nbformat_minor": 2
}
